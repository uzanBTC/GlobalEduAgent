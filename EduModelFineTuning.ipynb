{
 "cells": [
  {
   "cell_type": "code",
   "execution_count": 4,
   "id": "initial_id",
   "metadata": {
    "collapsed": true,
    "ExecuteTime": {
     "end_time": "2025-03-09T13:44:10.580605Z",
     "start_time": "2025-03-09T13:44:10.575610Z"
    }
   },
   "outputs": [
    {
     "name": "stdout",
     "output_type": "stream",
     "text": [
      "PyTorch 版本: 2.7.0.dev20250307+cu128\n",
      "True\n",
      "PyTorch 使用的 CUDA 版本: 12.8\n"
     ]
    }
   ],
   "source": [
    "import torch\n",
    "print(\"PyTorch 版本:\", torch.__version__)\n",
    "print(torch.cuda.is_available())\n",
    "print(\"PyTorch 使用的 CUDA 版本:\", torch.version.cuda)"
   ]
  },
  {
   "cell_type": "code",
   "outputs": [
    {
     "ename": "ModuleNotFoundError",
     "evalue": "No module named 'triton'",
     "output_type": "error",
     "traceback": [
      "\u001B[31m---------------------------------------------------------------------------\u001B[39m",
      "\u001B[31mModuleNotFoundError\u001B[39m                       Traceback (most recent call last)",
      "\u001B[36mCell\u001B[39m\u001B[36m \u001B[39m\u001B[32mIn[6]\u001B[39m\u001B[32m, line 1\u001B[39m\n\u001B[32m----> \u001B[39m\u001B[32m1\u001B[39m \u001B[38;5;28;01mfrom\u001B[39;00m\u001B[38;5;250m \u001B[39m\u001B[34;01munsloth\u001B[39;00m\u001B[38;5;250m \u001B[39m\u001B[38;5;28;01mimport\u001B[39;00m FastLlamaModel\n",
      "\u001B[36mFile \u001B[39m\u001B[32m~\\codes\\GlobalEduAgent\\GlobalEduAgent\\venv\\Lib\\site-packages\\unsloth\\__init__.py:141\u001B[39m\n\u001B[32m    137\u001B[39m \u001B[38;5;28;01mpass\u001B[39;00m\n\u001B[32m    139\u001B[39m \u001B[38;5;66;03m# For Gradio HF Spaces?\u001B[39;00m\n\u001B[32m    140\u001B[39m \u001B[38;5;66;03m# if \"SPACE_AUTHOR_NAME\" not in os.environ and \"SPACE_REPO_NAME\" not in os.environ:\u001B[39;00m\n\u001B[32m--> \u001B[39m\u001B[32m141\u001B[39m \u001B[38;5;28;01mimport\u001B[39;00m\u001B[38;5;250m \u001B[39m\u001B[34;01mtriton\u001B[39;00m\n\u001B[32m    142\u001B[39m libcuda_dirs = \u001B[38;5;28;01mlambda\u001B[39;00m: \u001B[38;5;28;01mNone\u001B[39;00m\n\u001B[32m    143\u001B[39m \u001B[38;5;28;01mif\u001B[39;00m Version(triton.__version__) >= Version(\u001B[33m\"\u001B[39m\u001B[33m3.0.0\u001B[39m\u001B[33m\"\u001B[39m):\n",
      "\u001B[31mModuleNotFoundError\u001B[39m: No module named 'triton'"
     ]
    }
   ],
   "source": [
    "from unsloth import FastLlamaModel"
   ],
   "metadata": {
    "collapsed": false,
    "ExecuteTime": {
     "end_time": "2025-03-09T13:57:09.977493Z",
     "start_time": "2025-03-09T13:57:09.929064Z"
    }
   },
   "id": "916d4418267e3c7f",
   "execution_count": 6
  },
  {
   "cell_type": "code",
   "outputs": [],
   "source": [],
   "metadata": {
    "collapsed": false
   },
   "id": "e148cbd67e71e098"
  }
 ],
 "metadata": {
  "kernelspec": {
   "display_name": "Python 3",
   "language": "python",
   "name": "python3"
  },
  "language_info": {
   "codemirror_mode": {
    "name": "ipython",
    "version": 2
   },
   "file_extension": ".py",
   "mimetype": "text/x-python",
   "name": "python",
   "nbconvert_exporter": "python",
   "pygments_lexer": "ipython2",
   "version": "2.7.6"
  }
 },
 "nbformat": 4,
 "nbformat_minor": 5
}
